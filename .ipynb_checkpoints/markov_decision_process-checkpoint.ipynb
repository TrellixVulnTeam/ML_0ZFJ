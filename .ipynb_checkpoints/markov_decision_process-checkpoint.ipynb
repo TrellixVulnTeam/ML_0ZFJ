{
 "cells": [
  {
   "cell_type": "code",
   "execution_count": 18,
   "metadata": {},
   "outputs": [
    {
     "name": "stdout",
     "output_type": "stream",
     "text": [
      "Q:\n",
      "[[0. 0. 0. 0. 0. 0.]\n",
      " [0. 0. 0. 0. 0. 0.]\n",
      " [0. 0. 0. 0. 0. 0.]\n",
      " [0. 0. 0. 0. 0. 0.]\n",
      " [0. 0. 0. 0. 0. 0.]\n",
      " [0. 0. 0. 0. 0. 0.]]\n",
      "Normed Q:\n",
      "[[nan nan nan nan nan nan]\n",
      " [nan nan nan nan nan nan]\n",
      " [nan nan nan nan nan nan]\n",
      " [nan nan nan nan nan nan]\n",
      " [nan nan nan nan nan nan]\n",
      " [nan nan nan nan nan nan]]\n"
     ]
    },
    {
     "name": "stderr",
     "output_type": "stream",
     "text": [
      "/home/vipero_7/jupy/env/lib/python3.6/site-packages/ipykernel_launcher.py:50: RuntimeWarning: invalid value encountered in true_divide\n"
     ]
    }
   ],
   "source": [
    "import numpy as np\n",
    "R = np.matrix([ [0,0,0,0,1,0],\n",
    "                [0,0,0,1,0,1],\n",
    "                [0,0,100,1,0,0],\n",
    "                [0,1,1,0,1,0],\n",
    "                [1,0,0,1,0,0],\n",
    "                [0,1,0,0,0,0]\n",
    "              ])\n",
    "Q = np.matrix(np.zeros([6,6]))\n",
    "gamma = 0.8\n",
    "agent_s_states = 1\n",
    "#possible actions\n",
    "def possible_actions(state):\n",
    "    current_state_row = R[state,]\n",
    "    possible_act = np.where(current_state_row > 0)[1]\n",
    "    return possible_act\n",
    "#get available action\n",
    "PossibleAction = possible_actions(agent_s_states)\n",
    "\n",
    "#Random Choice\n",
    "def ActionChoice(available_actions_range):\n",
    "    next_action = int(np.random.choice(PossibleAction, 1))\n",
    "    return next_action\n",
    "\n",
    "#sample next action to be performed\n",
    "action = ActionChoice(PossibleAction)\n",
    "\n",
    "def reward(current_state, action, gamma):\n",
    "    Max_state = np.where(Q[action,] == np.max(Q[action,])) [1]\n",
    "    \n",
    "    if Max_state.shape[0] > 1:\n",
    "        Max_state = int(np.random.choice(Max_state, size = 1))\n",
    "    else:\n",
    "        Max_state = int(Max_state)\n",
    "    MaxValue = Q[action, Max_state]\n",
    "#Q function\n",
    "reward(agent_s_state,action,gamma)\n",
    "\n",
    "for i in range(5):\n",
    "    current_state = np.random.randint(0, int(Q.shape[0]))\n",
    "    possibleAction = possible_actions(current_state)\n",
    "    action = ActionChoice(PossibleAction)\n",
    "    reward(current_state, action, gamma)\n",
    "    \n",
    "#Displaying Q before the norm of Q phase\n",
    "print(\"Q:\")\n",
    "print(Q)\n",
    "\n",
    "#Norm of Q\n",
    "print(\"Normed Q:\")\n",
    "print(Q/np.max(Q)*100)"
   ]
  },
  {
   "cell_type": "code",
   "execution_count": null,
   "metadata": {},
   "outputs": [],
   "source": []
  }
 ],
 "metadata": {
  "kernelspec": {
   "display_name": "Python 3",
   "language": "python",
   "name": "python3"
  },
  "language_info": {
   "codemirror_mode": {
    "name": "ipython",
    "version": 3
   },
   "file_extension": ".py",
   "mimetype": "text/x-python",
   "name": "python",
   "nbconvert_exporter": "python",
   "pygments_lexer": "ipython3",
   "version": "3.6.8"
  }
 },
 "nbformat": 4,
 "nbformat_minor": 2
}
